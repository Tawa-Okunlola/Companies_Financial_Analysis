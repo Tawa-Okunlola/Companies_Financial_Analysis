{
 "cells": [
  {
   "cell_type": "code",
   "execution_count": 666,
   "id": "08efdf68-99b7-4c4f-b251-db7d442e2606",
   "metadata": {},
   "outputs": [],
   "source": [
    "#Import the required libraries\n",
    "import pandas as pd\n",
    "import psycopg2\n",
    "from sqlalchemy import create_engine"
   ]
  },
  {
   "cell_type": "code",
   "execution_count": 667,
   "id": "d9d33ea8-4ef5-4058-bf67-a4e79d8e3756",
   "metadata": {},
   "outputs": [
    {
     "data": {
      "text/html": [
       "<div>\n",
       "<style scoped>\n",
       "    .dataframe tbody tr th:only-of-type {\n",
       "        vertical-align: middle;\n",
       "    }\n",
       "\n",
       "    .dataframe tbody tr th {\n",
       "        vertical-align: top;\n",
       "    }\n",
       "\n",
       "    .dataframe thead th {\n",
       "        text-align: right;\n",
       "    }\n",
       "</style>\n",
       "<table border=\"1\" class=\"dataframe\">\n",
       "  <thead>\n",
       "    <tr style=\"text-align: right;\">\n",
       "      <th></th>\n",
       "      <th>ComPANY</th>\n",
       "      <th>Period</th>\n",
       "      <th>REVENUE</th>\n",
       "      <th>Net Income</th>\n",
       "      <th>LIABILITIES</th>\n",
       "      <th>Assets</th>\n",
       "      <th>Equity</th>\n",
       "      <th>ROA (%)</th>\n",
       "      <th>ROE (%)</th>\n",
       "      <th>Debt to Equity</th>\n",
       "      <th>PERCENTAGE DEBT TO EQUITY</th>\n",
       "    </tr>\n",
       "  </thead>\n",
       "  <tbody>\n",
       "    <tr>\n",
       "      <th>0</th>\n",
       "      <td>Volkswagen AG</td>\n",
       "      <td>12/31/2017</td>\n",
       "      <td>9750496618</td>\n",
       "      <td>5.168898e+08</td>\n",
       "      <td>21354201295</td>\n",
       "      <td>54861302788</td>\n",
       "      <td>33507101493</td>\n",
       "      <td>942.175.618</td>\n",
       "      <td>1.542.627.668</td>\n",
       "      <td>637.303.746</td>\n",
       "      <td>0,00%</td>\n",
       "    </tr>\n",
       "    <tr>\n",
       "      <th>1</th>\n",
       "      <td>Siemens AG</td>\n",
       "      <td>12/31/2017</td>\n",
       "      <td>19716237464</td>\n",
       "      <td>1.276840e+09</td>\n",
       "      <td>45009303223</td>\n",
       "      <td>75268101508</td>\n",
       "      <td>30258798286</td>\n",
       "      <td>1.696.389.282</td>\n",
       "      <td>4.219.731.382</td>\n",
       "      <td>1.487.478.214</td>\n",
       "      <td>283,68%</td>\n",
       "    </tr>\n",
       "    <tr>\n",
       "      <th>2</th>\n",
       "      <td>Allianz SE</td>\n",
       "      <td>12/31/2017</td>\n",
       "      <td>19458831198</td>\n",
       "      <td>1.600107e+09</td>\n",
       "      <td>48538978480</td>\n",
       "      <td>69583711255</td>\n",
       "      <td>21044732775</td>\n",
       "      <td>2.299.542.624</td>\n",
       "      <td>7.603.361.452</td>\n",
       "      <td>2.306.466.848</td>\n",
       "      <td>329,65%</td>\n",
       "    </tr>\n",
       "    <tr>\n",
       "      <th>3</th>\n",
       "      <td>BMW AG</td>\n",
       "      <td>12/31/2017</td>\n",
       "      <td>18808147150</td>\n",
       "      <td>9.601843e+08</td>\n",
       "      <td>35382107627</td>\n",
       "      <td>67327482638</td>\n",
       "      <td>31945375011</td>\n",
       "      <td>142.614.028</td>\n",
       "      <td>3.005.706.927</td>\n",
       "      <td>1.107.581.539</td>\n",
       "      <td>0,00%</td>\n",
       "    </tr>\n",
       "    <tr>\n",
       "      <th>4</th>\n",
       "      <td>BASF SE</td>\n",
       "      <td>12/31/2017</td>\n",
       "      <td>16895580815</td>\n",
       "      <td>1.797082e+09</td>\n",
       "      <td>28309420014</td>\n",
       "      <td>68036567115</td>\n",
       "      <td>39727147101</td>\n",
       "      <td>2.641.347.127</td>\n",
       "      <td>4.523.561.449</td>\n",
       "      <td>71.259.635</td>\n",
       "      <td>634,80%</td>\n",
       "    </tr>\n",
       "  </tbody>\n",
       "</table>\n",
       "</div>"
      ],
      "text/plain": [
       "         ComPANY      Period      REVENUE    Net Income  LIABILITIES  \\\n",
       "0  Volkswagen AG  12/31/2017   9750496618  5.168898e+08  21354201295   \n",
       "1     Siemens AG  12/31/2017  19716237464  1.276840e+09  45009303223   \n",
       "2     Allianz SE  12/31/2017  19458831198  1.600107e+09  48538978480   \n",
       "3         BMW AG  12/31/2017  18808147150  9.601843e+08  35382107627   \n",
       "4        BASF SE  12/31/2017  16895580815  1.797082e+09  28309420014   \n",
       "\n",
       "        Assets       Equity        ROA (%)        ROE (%) Debt to Equity  \\\n",
       "0  54861302788  33507101493    942.175.618  1.542.627.668    637.303.746   \n",
       "1  75268101508  30258798286  1.696.389.282  4.219.731.382  1.487.478.214   \n",
       "2  69583711255  21044732775  2.299.542.624  7.603.361.452  2.306.466.848   \n",
       "3  67327482638  31945375011    142.614.028  3.005.706.927  1.107.581.539   \n",
       "4  68036567115  39727147101  2.641.347.127  4.523.561.449     71.259.635   \n",
       "\n",
       "  PERCENTAGE DEBT TO EQUITY  \n",
       "0                     0,00%  \n",
       "1                   283,68%  \n",
       "2                   329,65%  \n",
       "3                     0,00%  \n",
       "4                   634,80%  "
      ]
     },
     "execution_count": 667,
     "metadata": {},
     "output_type": "execute_result"
    }
   ],
   "source": [
    "#Import the csv file\n",
    "df = pd.read_csv('Top_12_German_Companies NEW.csv')\n",
    "df.head()"
   ]
  },
  {
   "cell_type": "code",
   "execution_count": 668,
   "id": "65aef465-91f1-49ab-b48e-b8b1bacccf37",
   "metadata": {},
   "outputs": [
    {
     "data": {
      "text/html": [
       "<div>\n",
       "<style scoped>\n",
       "    .dataframe tbody tr th:only-of-type {\n",
       "        vertical-align: middle;\n",
       "    }\n",
       "\n",
       "    .dataframe tbody tr th {\n",
       "        vertical-align: top;\n",
       "    }\n",
       "\n",
       "    .dataframe thead th {\n",
       "        text-align: right;\n",
       "    }\n",
       "</style>\n",
       "<table border=\"1\" class=\"dataframe\">\n",
       "  <thead>\n",
       "    <tr style=\"text-align: right;\">\n",
       "      <th></th>\n",
       "      <th>company</th>\n",
       "      <th>period</th>\n",
       "      <th>revenue</th>\n",
       "      <th>net_income</th>\n",
       "      <th>liabilities</th>\n",
       "      <th>assets</th>\n",
       "      <th>equity</th>\n",
       "      <th>roa_(%)</th>\n",
       "      <th>roe_(%)</th>\n",
       "      <th>debt_to_equity</th>\n",
       "      <th>percentage_debt_to_equity</th>\n",
       "    </tr>\n",
       "  </thead>\n",
       "  <tbody>\n",
       "    <tr>\n",
       "      <th>0</th>\n",
       "      <td>Volkswagen AG</td>\n",
       "      <td>12/31/2017</td>\n",
       "      <td>9750496618</td>\n",
       "      <td>5.168898e+08</td>\n",
       "      <td>21354201295</td>\n",
       "      <td>54861302788</td>\n",
       "      <td>33507101493</td>\n",
       "      <td>942.175.618</td>\n",
       "      <td>1.542.627.668</td>\n",
       "      <td>637.303.746</td>\n",
       "      <td>0,00%</td>\n",
       "    </tr>\n",
       "    <tr>\n",
       "      <th>1</th>\n",
       "      <td>Siemens AG</td>\n",
       "      <td>12/31/2017</td>\n",
       "      <td>19716237464</td>\n",
       "      <td>1.276840e+09</td>\n",
       "      <td>45009303223</td>\n",
       "      <td>75268101508</td>\n",
       "      <td>30258798286</td>\n",
       "      <td>1.696.389.282</td>\n",
       "      <td>4.219.731.382</td>\n",
       "      <td>1.487.478.214</td>\n",
       "      <td>283,68%</td>\n",
       "    </tr>\n",
       "  </tbody>\n",
       "</table>\n",
       "</div>"
      ],
      "text/plain": [
       "         company      period      revenue    net_income  liabilities  \\\n",
       "0  Volkswagen AG  12/31/2017   9750496618  5.168898e+08  21354201295   \n",
       "1     Siemens AG  12/31/2017  19716237464  1.276840e+09  45009303223   \n",
       "\n",
       "        assets       equity        roa_(%)        roe_(%) debt_to_equity  \\\n",
       "0  54861302788  33507101493    942.175.618  1.542.627.668    637.303.746   \n",
       "1  75268101508  30258798286  1.696.389.282  4.219.731.382  1.487.478.214   \n",
       "\n",
       "  percentage_debt_to_equity  \n",
       "0                     0,00%  \n",
       "1                   283,68%  "
      ]
     },
     "execution_count": 668,
     "metadata": {},
     "output_type": "execute_result"
    }
   ],
   "source": [
    "#Transform the DataFrame Columns to become uniform\n",
    "df.columns = df.columns.str.lower()\n",
    "df.columns = df.columns.str.replace(' ', '_')\n",
    "df.head(2)"
   ]
  },
  {
   "cell_type": "code",
   "execution_count": 669,
   "id": "8545d975-85e9-47cf-9d94-069fab41ba78",
   "metadata": {},
   "outputs": [
    {
     "name": "stdout",
     "output_type": "stream",
     "text": [
      "<class 'pandas.core.frame.DataFrame'>\n",
      "RangeIndex: 396 entries, 0 to 395\n",
      "Data columns (total 11 columns):\n",
      " #   Column                     Non-Null Count  Dtype  \n",
      "---  ------                     --------------  -----  \n",
      " 0   company                    396 non-null    object \n",
      " 1   period                     396 non-null    object \n",
      " 2   revenue                    396 non-null    int64  \n",
      " 3   net_income                 396 non-null    float64\n",
      " 4   liabilities                396 non-null    int64  \n",
      " 5   assets                     396 non-null    int64  \n",
      " 6   equity                     396 non-null    int64  \n",
      " 7   roa_(%)                    396 non-null    object \n",
      " 8   roe_(%)                    396 non-null    object \n",
      " 9   debt_to_equity             396 non-null    object \n",
      " 10  percentage_debt_to_equity  396 non-null    object \n",
      "dtypes: float64(1), int64(4), object(6)\n",
      "memory usage: 34.2+ KB\n"
     ]
    }
   ],
   "source": [
    "#Check the information about each column to get data type, null values etc\n",
    "df.info()"
   ]
  },
  {
   "cell_type": "code",
   "execution_count": 670,
   "id": "099a9899-fc62-4d62-80cb-2080d5845fae",
   "metadata": {},
   "outputs": [],
   "source": [
    "#Transform period object type to a date type\n",
    "df['period'] = pd.to_datetime(df['period'])"
   ]
  },
  {
   "cell_type": "code",
   "execution_count": 671,
   "id": "ac3fe927-9606-406f-be7a-4722a9aad0ca",
   "metadata": {},
   "outputs": [
    {
     "data": {
      "text/plain": [
       "dtype('<M8[ns]')"
      ]
     },
     "execution_count": 671,
     "metadata": {},
     "output_type": "execute_result"
    }
   ],
   "source": [
    "df['period'].dtype"
   ]
  },
  {
   "cell_type": "code",
   "execution_count": 672,
   "id": "1ca5679a-22f3-4916-9980-7ecf7388d720",
   "metadata": {},
   "outputs": [],
   "source": [
    "#Transform 'roa', 'roe', 'debt_to_equity' and 'percentage_debt_to_equity' to float data type and clean the values\n",
    "columns_object = ['roa_(%)', 'roe_(%)', 'debt_to_equity', 'percentage_debt_to_equity']\n",
    "for col in columns_object_to_float:\n",
    "    df[col] = df[col].astype(str)\n",
    "    df[col] = df[col].str.replace('.', '')\n",
    "    df[col] = df[col].str.replace(',', '.')\n",
    "    df[col] = df[col].str.replace('%', '')\n",
    "\n",
    "    df[col] = df[col].astype(float)\n",
    " \n"
   ]
  },
  {
   "cell_type": "code",
   "execution_count": 673,
   "id": "427de4d8-48e1-49b6-a0fd-1716eee0463b",
   "metadata": {},
   "outputs": [],
   "source": [
    "df['day'] = df['period'].dt.day\n",
    "df['month'] = df['period'].dt.month\n",
    "df['year'] = df['period'].dt.year"
   ]
  },
  {
   "cell_type": "code",
   "execution_count": 674,
   "id": "b5415a0e-1eaf-4bc1-bee4-e03fc50be3a8",
   "metadata": {},
   "outputs": [],
   "source": [
    "df.drop(columns={'period'}, inplace=True)"
   ]
  },
  {
   "cell_type": "code",
   "execution_count": 703,
   "id": "0aa27eb4-ffd7-4789-b593-cbae92bd0c71",
   "metadata": {},
   "outputs": [],
   "source": [
    "engine = create_engine('postgresql+psycopg2://postgres:<password>@localhost:5432/Supply')"
   ]
  },
  {
   "cell_type": "code",
   "execution_count": 705,
   "id": "1087ca6b-bf98-4f56-8af3-4acf02b707f6",
   "metadata": {},
   "outputs": [
    {
     "data": {
      "text/plain": [
       "396"
      ]
     },
     "execution_count": 705,
     "metadata": {},
     "output_type": "execute_result"
    }
   ],
   "source": [
    "df.to_sql('companies_budget', engine, index=False, if_exists='replace')"
   ]
  },
  {
   "cell_type": "code",
   "execution_count": null,
   "id": "86e07ee9-e909-44e3-99eb-18173a3759bc",
   "metadata": {},
   "outputs": [],
   "source": []
  }
 ],
 "metadata": {
  "kernelspec": {
   "display_name": "Python 3 (ipykernel)",
   "language": "python",
   "name": "python3"
  },
  "language_info": {
   "codemirror_mode": {
    "name": "ipython",
    "version": 3
   },
   "file_extension": ".py",
   "mimetype": "text/x-python",
   "name": "python",
   "nbconvert_exporter": "python",
   "pygments_lexer": "ipython3",
   "version": "3.12.4"
  }
 },
 "nbformat": 4,
 "nbformat_minor": 5
}
